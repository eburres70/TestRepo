{
 "cells": [
  {
   "cell_type": "markdown",
   "id": "7c463f40-492e-46d8-94d3-bda87194dc2c",
   "metadata": {},
   "source": [
    "# Data Science Tools and Ecosystem\n"
   ]
  },
  {
   "cell_type": "markdown",
   "id": "7f1adb7e-036b-43ae-84d4-aa71047eee62",
   "metadata": {},
   "source": [
    "In this notebook, Data Science tools and Ecosystem are summarized.\n"
   ]
  },
  {
   "cell_type": "markdown",
   "id": "ea51a363-1e8a-4f97-a42a-a8ad60da32b7",
   "metadata": {},
   "source": [
    "__Objectives:__\n",
    "- List popular languages in Data Science.\n",
    "- List commonly used libraries in Data Science.\n",
    "- Learn how to use Jupyter Notebook.\n",
    "- "
   ]
  },
  {
   "cell_type": "markdown",
   "id": "4f826c06-9958-42a5-8171-00bdbeaf68be",
   "metadata": {},
   "source": [
    "Some of the popular languages that Data Scientists use are:\n",
    "1. Python\n",
    "2. R\n",
    "3. SQL\n",
    "4. Scala\n",
    "5. "
   ]
  },
  {
   "cell_type": "markdown",
   "id": "8e0867e5-34ff-4f30-800e-05588858e983",
   "metadata": {},
   "source": [
    "Some of the commonly used libraries used by Data Scientists include:\n",
    "1. Pandas\n",
    "2. Matplotlib\n",
    "3. NumPy\n",
    "4. "
   ]
  },
  {
   "cell_type": "markdown",
   "id": "bdacf0cc-8174-46b9-a8ba-3a480a470ba2",
   "metadata": {},
   "source": [
    "| Data Science Tools |\n",
    "|:------------------:|\n",
    "| Jupyter Notebooks. |\n",
    "| RStudio            |\n",
    "| Spyder             |\n"
   ]
  },
  {
   "cell_type": "markdown",
   "id": "045d4dbe-0c69-4857-90d1-d7f108049474",
   "metadata": {},
   "source": [
    "### Below are a few examples of evaluating arithmetic expressions in Python.\n"
   ]
  },
  {
   "cell_type": "code",
   "execution_count": 1,
   "id": "fffb6ff6-22a8-4866-ba43-cefb8506708c",
   "metadata": {},
   "outputs": [
    {
     "data": {
      "text/plain": [
       "17"
      ]
     },
     "execution_count": 1,
     "metadata": {},
     "output_type": "execute_result"
    }
   ],
   "source": [
    "# This is a simple arithmetic expression to multiply then add integers.\n",
    "(3*4)+5"
   ]
  },
  {
   "cell_type": "code",
   "execution_count": 2,
   "id": "81095962-d842-4c06-b1cd-ce9e5459354b",
   "metadata": {},
   "outputs": [
    {
     "data": {
      "text/plain": [
       "3.3333333333333335"
      ]
     },
     "execution_count": 2,
     "metadata": {},
     "output_type": "execute_result"
    }
   ],
   "source": [
    "# This will convert 200 minutes to hours by dividing by 60.\n",
    "200 / 60\n"
   ]
  },
  {
   "cell_type": "markdown",
   "id": "3a0dc8ea-1ae3-4f19-ae92-fe3d247ba8ef",
   "metadata": {},
   "source": [
    "## Author\n",
    "Erick Andrew Burreson\n"
   ]
  },
  {
   "cell_type": "code",
   "execution_count": null,
   "id": "0f26d715-0cf0-4c9c-853b-a32186b286f8",
   "metadata": {},
   "outputs": [],
   "source": []
  }
 ],
 "metadata": {
  "kernelspec": {
   "display_name": "Python 3 (ipykernel)",
   "language": "python",
   "name": "python3"
  },
  "language_info": {
   "codemirror_mode": {
    "name": "ipython",
    "version": 3
   },
   "file_extension": ".py",
   "mimetype": "text/x-python",
   "name": "python",
   "nbconvert_exporter": "python",
   "pygments_lexer": "ipython3",
   "version": "3.12.8"
  }
 },
 "nbformat": 4,
 "nbformat_minor": 5
}
